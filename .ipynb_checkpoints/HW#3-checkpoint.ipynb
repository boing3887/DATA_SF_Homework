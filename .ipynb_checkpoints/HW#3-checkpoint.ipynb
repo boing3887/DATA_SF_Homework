{
 "cells": [
  {
   "cell_type": "code",
   "execution_count": 24,
   "metadata": {
    "collapsed": false
   },
   "outputs": [],
   "source": [
    "import pandas as pd\n",
    "import numpy as np\n",
    "import sklearn"
   ]
  },
  {
   "cell_type": "code",
   "execution_count": 27,
   "metadata": {
    "collapsed": false
   },
   "outputs": [],
   "source": [
    "#bank = pd.read_csv('bank.csv')\n",
    "#print(bank)"
   ]
  },
  {
   "cell_type": "code",
   "execution_count": 3,
   "metadata": {
    "collapsed": false
   },
   "outputs": [],
   "source": [
    "#bank.head()"
   ]
  },
  {
   "cell_type": "code",
   "execution_count": 4,
   "metadata": {
    "collapsed": false
   },
   "outputs": [],
   "source": [
    "#bank.describe()"
   ]
  },
  {
   "cell_type": "code",
   "execution_count": 5,
   "metadata": {
    "collapsed": false
   },
   "outputs": [],
   "source": [
    "#bank.keys()"
   ]
  },
  {
   "cell_type": "code",
   "execution_count": 6,
   "metadata": {
    "collapsed": false
   },
   "outputs": [],
   "source": [
    "#import csv\n",
    "\n",
    "#with open('bank.csv', 'rt', newline='') as csvfile:\n",
    "#   csvreader = csv.reader(csvfile, delimiter=';', quotechar='\"')\n",
    "    \n",
    "#    for row in csvreader:\n",
    "#        print(', '.join(row))\"\"\""
   ]
  },
  {
   "cell_type": "code",
   "execution_count": 6,
   "metadata": {
    "collapsed": false
   },
   "outputs": [
    {
     "data": {
      "text/html": [
       "<div style=\"max-height:1000px;max-width:1500px;overflow:auto;\">\n",
       "<table border=\"1\" class=\"dataframe\">\n",
       "  <thead>\n",
       "    <tr style=\"text-align: right;\">\n",
       "      <th></th>\n",
       "      <th>age</th>\n",
       "      <th>job</th>\n",
       "      <th>marital</th>\n",
       "      <th>education</th>\n",
       "      <th>default</th>\n",
       "      <th>balance</th>\n",
       "      <th>housing</th>\n",
       "      <th>loan</th>\n",
       "      <th>contact</th>\n",
       "      <th>day</th>\n",
       "      <th>month</th>\n",
       "      <th>duration</th>\n",
       "      <th>campaign</th>\n",
       "      <th>pdays</th>\n",
       "      <th>previous</th>\n",
       "      <th>poutcome</th>\n",
       "      <th>y</th>\n",
       "    </tr>\n",
       "  </thead>\n",
       "  <tbody>\n",
       "    <tr>\n",
       "      <th>0</th>\n",
       "      <td> 30</td>\n",
       "      <td>  unemployed</td>\n",
       "      <td> married</td>\n",
       "      <td>   primary</td>\n",
       "      <td> no</td>\n",
       "      <td> 1787</td>\n",
       "      <td>  no</td>\n",
       "      <td>  no</td>\n",
       "      <td> cellular</td>\n",
       "      <td> 19</td>\n",
       "      <td> oct</td>\n",
       "      <td>  79</td>\n",
       "      <td> 1</td>\n",
       "      <td>  -1</td>\n",
       "      <td> 0</td>\n",
       "      <td> unknown</td>\n",
       "      <td> no</td>\n",
       "    </tr>\n",
       "    <tr>\n",
       "      <th>1</th>\n",
       "      <td> 33</td>\n",
       "      <td>    services</td>\n",
       "      <td> married</td>\n",
       "      <td> secondary</td>\n",
       "      <td> no</td>\n",
       "      <td> 4789</td>\n",
       "      <td> yes</td>\n",
       "      <td> yes</td>\n",
       "      <td> cellular</td>\n",
       "      <td> 11</td>\n",
       "      <td> may</td>\n",
       "      <td> 220</td>\n",
       "      <td> 1</td>\n",
       "      <td> 339</td>\n",
       "      <td> 4</td>\n",
       "      <td> failure</td>\n",
       "      <td> no</td>\n",
       "    </tr>\n",
       "    <tr>\n",
       "      <th>2</th>\n",
       "      <td> 35</td>\n",
       "      <td>  management</td>\n",
       "      <td>  single</td>\n",
       "      <td>  tertiary</td>\n",
       "      <td> no</td>\n",
       "      <td> 1350</td>\n",
       "      <td> yes</td>\n",
       "      <td>  no</td>\n",
       "      <td> cellular</td>\n",
       "      <td> 16</td>\n",
       "      <td> apr</td>\n",
       "      <td> 185</td>\n",
       "      <td> 1</td>\n",
       "      <td> 330</td>\n",
       "      <td> 1</td>\n",
       "      <td> failure</td>\n",
       "      <td> no</td>\n",
       "    </tr>\n",
       "    <tr>\n",
       "      <th>3</th>\n",
       "      <td> 30</td>\n",
       "      <td>  management</td>\n",
       "      <td> married</td>\n",
       "      <td>  tertiary</td>\n",
       "      <td> no</td>\n",
       "      <td> 1476</td>\n",
       "      <td> yes</td>\n",
       "      <td> yes</td>\n",
       "      <td>  unknown</td>\n",
       "      <td>  3</td>\n",
       "      <td> jun</td>\n",
       "      <td> 199</td>\n",
       "      <td> 4</td>\n",
       "      <td>  -1</td>\n",
       "      <td> 0</td>\n",
       "      <td> unknown</td>\n",
       "      <td> no</td>\n",
       "    </tr>\n",
       "    <tr>\n",
       "      <th>4</th>\n",
       "      <td> 59</td>\n",
       "      <td> blue-collar</td>\n",
       "      <td> married</td>\n",
       "      <td> secondary</td>\n",
       "      <td> no</td>\n",
       "      <td>    0</td>\n",
       "      <td> yes</td>\n",
       "      <td>  no</td>\n",
       "      <td>  unknown</td>\n",
       "      <td>  5</td>\n",
       "      <td> may</td>\n",
       "      <td> 226</td>\n",
       "      <td> 1</td>\n",
       "      <td>  -1</td>\n",
       "      <td> 0</td>\n",
       "      <td> unknown</td>\n",
       "      <td> no</td>\n",
       "    </tr>\n",
       "  </tbody>\n",
       "</table>\n",
       "</div>"
      ],
      "text/plain": [
       "   age          job  marital  education default  balance housing loan  \\\n",
       "0   30   unemployed  married    primary      no     1787      no   no   \n",
       "1   33     services  married  secondary      no     4789     yes  yes   \n",
       "2   35   management   single   tertiary      no     1350     yes   no   \n",
       "3   30   management  married   tertiary      no     1476     yes  yes   \n",
       "4   59  blue-collar  married  secondary      no        0     yes   no   \n",
       "\n",
       "    contact  day month  duration  campaign  pdays  previous poutcome   y  \n",
       "0  cellular   19   oct        79         1     -1         0  unknown  no  \n",
       "1  cellular   11   may       220         1    339         4  failure  no  \n",
       "2  cellular   16   apr       185         1    330         1  failure  no  \n",
       "3   unknown    3   jun       199         4     -1         0  unknown  no  \n",
       "4   unknown    5   may       226         1     -1         0  unknown  no  "
      ]
     },
     "execution_count": 6,
     "metadata": {},
     "output_type": "execute_result"
    }
   ],
   "source": [
    "# bdp = bank_data_partial\n",
    "\n",
    "#bdp = pd.DataFrame.from_csv('bank.csv', header=0, sep=';')\n",
    "#bdp = pd.DataFrame.from_csv('bank.csv', header=0, sep=';', index_col=False, tupleize_cols=False)\n",
    "bdp = pd.read_csv('bank.csv', sep=';', index_col=False)\n",
    "bdp.head()"
   ]
  },
  {
   "cell_type": "code",
   "execution_count": 7,
   "metadata": {
    "collapsed": false
   },
   "outputs": [
    {
     "data": {
      "text/html": [
       "<div style=\"max-height:1000px;max-width:1500px;overflow:auto;\">\n",
       "<table border=\"1\" class=\"dataframe\">\n",
       "  <thead>\n",
       "    <tr style=\"text-align: right;\">\n",
       "      <th></th>\n",
       "      <th>age</th>\n",
       "      <th>balance</th>\n",
       "      <th>day</th>\n",
       "      <th>duration</th>\n",
       "      <th>campaign</th>\n",
       "      <th>pdays</th>\n",
       "      <th>previous</th>\n",
       "    </tr>\n",
       "  </thead>\n",
       "  <tbody>\n",
       "    <tr>\n",
       "      <th>count</th>\n",
       "      <td> 4521.000000</td>\n",
       "      <td>  4521.000000</td>\n",
       "      <td> 4521.000000</td>\n",
       "      <td> 4521.000000</td>\n",
       "      <td> 4521.000000</td>\n",
       "      <td> 4521.000000</td>\n",
       "      <td> 4521.000000</td>\n",
       "    </tr>\n",
       "    <tr>\n",
       "      <th>mean</th>\n",
       "      <td>   41.170095</td>\n",
       "      <td>  1422.657819</td>\n",
       "      <td>   15.915284</td>\n",
       "      <td>  263.961292</td>\n",
       "      <td>    2.793630</td>\n",
       "      <td>   39.766645</td>\n",
       "      <td>    0.542579</td>\n",
       "    </tr>\n",
       "    <tr>\n",
       "      <th>std</th>\n",
       "      <td>   10.576211</td>\n",
       "      <td>  3009.638142</td>\n",
       "      <td>    8.247667</td>\n",
       "      <td>  259.856633</td>\n",
       "      <td>    3.109807</td>\n",
       "      <td>  100.121124</td>\n",
       "      <td>    1.693562</td>\n",
       "    </tr>\n",
       "    <tr>\n",
       "      <th>min</th>\n",
       "      <td>   19.000000</td>\n",
       "      <td> -3313.000000</td>\n",
       "      <td>    1.000000</td>\n",
       "      <td>    4.000000</td>\n",
       "      <td>    1.000000</td>\n",
       "      <td>   -1.000000</td>\n",
       "      <td>    0.000000</td>\n",
       "    </tr>\n",
       "    <tr>\n",
       "      <th>25%</th>\n",
       "      <td>   33.000000</td>\n",
       "      <td>    69.000000</td>\n",
       "      <td>    9.000000</td>\n",
       "      <td>  104.000000</td>\n",
       "      <td>    1.000000</td>\n",
       "      <td>   -1.000000</td>\n",
       "      <td>    0.000000</td>\n",
       "    </tr>\n",
       "    <tr>\n",
       "      <th>50%</th>\n",
       "      <td>   39.000000</td>\n",
       "      <td>   444.000000</td>\n",
       "      <td>   16.000000</td>\n",
       "      <td>  185.000000</td>\n",
       "      <td>    2.000000</td>\n",
       "      <td>   -1.000000</td>\n",
       "      <td>    0.000000</td>\n",
       "    </tr>\n",
       "    <tr>\n",
       "      <th>75%</th>\n",
       "      <td>   49.000000</td>\n",
       "      <td>  1480.000000</td>\n",
       "      <td>   21.000000</td>\n",
       "      <td>  329.000000</td>\n",
       "      <td>    3.000000</td>\n",
       "      <td>   -1.000000</td>\n",
       "      <td>    0.000000</td>\n",
       "    </tr>\n",
       "    <tr>\n",
       "      <th>max</th>\n",
       "      <td>   87.000000</td>\n",
       "      <td> 71188.000000</td>\n",
       "      <td>   31.000000</td>\n",
       "      <td> 3025.000000</td>\n",
       "      <td>   50.000000</td>\n",
       "      <td>  871.000000</td>\n",
       "      <td>   25.000000</td>\n",
       "    </tr>\n",
       "  </tbody>\n",
       "</table>\n",
       "</div>"
      ],
      "text/plain": [
       "               age       balance          day     duration     campaign  \\\n",
       "count  4521.000000   4521.000000  4521.000000  4521.000000  4521.000000   \n",
       "mean     41.170095   1422.657819    15.915284   263.961292     2.793630   \n",
       "std      10.576211   3009.638142     8.247667   259.856633     3.109807   \n",
       "min      19.000000  -3313.000000     1.000000     4.000000     1.000000   \n",
       "25%      33.000000     69.000000     9.000000   104.000000     1.000000   \n",
       "50%      39.000000    444.000000    16.000000   185.000000     2.000000   \n",
       "75%      49.000000   1480.000000    21.000000   329.000000     3.000000   \n",
       "max      87.000000  71188.000000    31.000000  3025.000000    50.000000   \n",
       "\n",
       "             pdays     previous  \n",
       "count  4521.000000  4521.000000  \n",
       "mean     39.766645     0.542579  \n",
       "std     100.121124     1.693562  \n",
       "min      -1.000000     0.000000  \n",
       "25%      -1.000000     0.000000  \n",
       "50%      -1.000000     0.000000  \n",
       "75%      -1.000000     0.000000  \n",
       "max     871.000000    25.000000  "
      ]
     },
     "execution_count": 7,
     "metadata": {},
     "output_type": "execute_result"
    }
   ],
   "source": [
    "bdp.describe()"
   ]
  },
  {
   "cell_type": "code",
   "execution_count": 8,
   "metadata": {
    "collapsed": false
   },
   "outputs": [
    {
     "data": {
      "text/plain": [
       "Index([u'age', u'job', u'marital', u'education', u'default', u'balance', u'housing', u'loan', u'contact', u'day', u'month', u'duration', u'campaign', u'pdays', u'previous', u'poutcome', u'y'], dtype='object')"
      ]
     },
     "execution_count": 8,
     "metadata": {},
     "output_type": "execute_result"
    }
   ],
   "source": [
    "bdp.keys()"
   ]
  },
  {
   "cell_type": "code",
   "execution_count": 9,
   "metadata": {
    "collapsed": false
   },
   "outputs": [],
   "source": [
    "#bdp['pdays'].unique() #results are yuck"
   ]
  },
  {
   "cell_type": "code",
   "execution_count": 54,
   "metadata": {
    "collapsed": false
   },
   "outputs": [],
   "source": [
    "#bdp['pdays']"
   ]
  },
  {
   "cell_type": "code",
   "execution_count": 9,
   "metadata": {
    "collapsed": false
   },
   "outputs": [],
   "source": [
    "%matplotlib inline\n",
    "import matplotlib.pyplot as plt"
   ]
  },
  {
   "cell_type": "code",
   "execution_count": 10,
   "metadata": {
    "collapsed": false
   },
   "outputs": [
    {
     "data": {
      "image/png": "[encoded data removed]",
      "text/plain": [
       "<matplotlib.figure.Figure at 0xc832518>"
      ]
     },
     "metadata": {},
     "output_type": "display_data"
    }
   ],
   "source": [
    "plt.hist(bdp['pdays'])\n",
    "plt.title(\"'pdays' Histogram\")\n",
    "plt.xlabel(\"Value\")\n",
    "plt.ylabel(\"Frequency\")\n",
    "plt.show()\n",
    "# why doesn't histogram show \"-1\" values for 'pdays'?"
   ]
  },
  {
   "cell_type": "code",
   "execution_count": 55,
   "metadata": {
    "collapsed": false
   },
   "outputs": [],
   "source": [
    "#bdp['pdays'].value_counts()"
   ]
  },
  {
   "cell_type": "code",
   "execution_count": 42,
   "metadata": {
    "collapsed": false
   },
   "outputs": [],
   "source": [
    "#bdp.apply(pd.unique) / bdp.apply(np.unique)\n",
    "\n",
    "# pandas.dataframe.apply()' doesn't seem to work, results in the following: \n",
    "# \"ValueError: Shape of passed values is (17,), indices imply (17, 4521)\"\n",
    "# whether I don't include parameter [axis], or whether I designate [axis] as 0 or 1"
   ]
  },
  {
   "cell_type": "code",
   "execution_count": 14,
   "metadata": {
    "collapsed": false
   },
   "outputs": [
    {
     "data": {
      "text/plain": [
       "array(['primary', 'secondary', 'tertiary', 'unknown'], dtype=object)"
      ]
     },
     "execution_count": 14,
     "metadata": {},
     "output_type": "execute_result"
    }
   ],
   "source": [
    "bdp['education'].unique()"
   ]
  },
  {
   "cell_type": "code",
   "execution_count": 14,
   "metadata": {
    "collapsed": false
   },
   "outputs": [
    {
     "data": {
      "text/plain": [
       "array([ 0,  4,  1,  3,  2,  5, 20,  7,  6, 10,  9,  8, 18, 19, 12, 13, 11,\n",
       "       14, 15, 24, 17, 22, 23, 25], dtype=int64)"
      ]
     },
     "execution_count": 14,
     "metadata": {},
     "output_type": "execute_result"
    }
   ],
   "source": [
    "bdp['previous'].unique()"
   ]
  },
  {
   "cell_type": "code",
   "execution_count": 16,
   "metadata": {
    "collapsed": false
   },
   "outputs": [
    {
     "data": {
      "text/plain": [
       "array(['unknown', 'failure', 'other', 'success'], dtype=object)"
      ]
     },
     "execution_count": 16,
     "metadata": {},
     "output_type": "execute_result"
    }
   ],
   "source": [
    "bdp['poutcome'].unique() #what is 'other', a 'call me back' reply?"
   ]
  },
  {
   "cell_type": "code",
   "execution_count": 15,
   "metadata": {
    "collapsed": false
   },
   "outputs": [
    {
     "data": {
      "text/plain": [
       "unknown    3705\n",
       "failure     490\n",
       "other       197\n",
       "success     129\n",
       "dtype: int64"
      ]
     },
     "execution_count": 15,
     "metadata": {},
     "output_type": "execute_result"
    }
   ],
   "source": [
    "# It'd be good to know what the 'unknown' and 'other' responses for 'poutcome' were composed of,\n",
    "# in terms of 'pdays'\n",
    "bdp.poutcome.value_counts()\n",
    "#the huge number of 'unknown' entries is a problem"
   ]
  },
  {
   "cell_type": "code",
   "execution_count": null,
   "metadata": {
    "collapsed": false
   },
   "outputs": [],
   "source": [
    "# historgram of 'pdays' or some other numerical measure with poutcome[unknown] to determine what\n",
    "# the 'unknown' responses mean (?)"
   ]
  },
  {
   "cell_type": "code",
   "execution_count": null,
   "metadata": {
    "collapsed": false
   },
   "outputs": [],
   "source": [
    "\"\"\"\n",
    "Question 1: Describe features\n",
    "Answer: In raw form, the data are all strings. However, placing the data within a dataframe obviously\n",
    "changes that. \"Age\", \"balance\", \"day\", \"duration\", \"campaign\", \"pdays\" and \"previous\" are all continuous\n",
    "variables. All of the rest are categorical, though some of them have potential to be converted into ordinal,\n",
    "binary and even continuous variables, depending on how we want to undertake the analysis.\n",
    "\n",
    "\"\"\""
   ]
  },
  {
   "cell_type": "code",
   "execution_count": 27,
   "metadata": {
    "collapsed": false
   },
   "outputs": [],
   "source": [
    "from sklearn import preprocessing, feature_extraction\n",
    "#from sklearn.preprocessing import OneHotEncoder, LabelEncoder\n",
    "#from sklearn.feature_extraction import DictVectorizer"
   ]
  },
  {
   "cell_type": "code",
   "execution_count": 10,
   "metadata": {
    "collapsed": false
   },
   "outputs": [
    {
     "name": "stdout",
     "output_type": "stream",
     "text": [
      "<class 'pandas.core.frame.DataFrame'>\n",
      "Int64Index: 4521 entries, 0 to 4520\n",
      "Data columns (total 17 columns):\n",
      "age          4521 non-null int64\n",
      "job          4521 non-null object\n",
      "marital      4521 non-null object\n",
      "education    4521 non-null object\n",
      "default      4521 non-null object\n",
      "balance      4521 non-null int64\n",
      "housing      4521 non-null object\n",
      "loan         4521 non-null object\n",
      "contact      4521 non-null object\n",
      "day          4521 non-null int64\n",
      "month        4521 non-null object\n",
      "duration     4521 non-null int64\n",
      "campaign     4521 non-null int64\n",
      "pdays        4521 non-null int64\n",
      "previous     4521 non-null int64\n",
      "poutcome     4521 non-null object\n",
      "y            4521 non-null object\n",
      "dtypes: int64(7), object(10)"
     ]
    }
   ],
   "source": [
    "bdp.info()"
   ]
  },
  {
   "cell_type": "code",
   "execution_count": null,
   "metadata": {
    "collapsed": false
   },
   "outputs": [],
   "source": [
    "# bdp.keys():\n",
    "#['age', 'job', 'marital', 'education', 'default', 'balance', 'housing', 'loan', 'contact', \n",
    "#'day', 'month', 'duration', 'campaign', 'pdays', 'previous', 'poutcome', 'y']"
   ]
  },
  {
   "cell_type": "code",
   "execution_count": 17,
   "metadata": {
    "collapsed": false
   },
   "outputs": [
    {
     "data": {
      "text/plain": [
       "{'contact': 'cellular',\n",
       " 'default': 'no',\n",
       " 'education': 'primary',\n",
       " 'housing': 'no',\n",
       " 'job': 'unemployed',\n",
       " 'loan': 'no',\n",
       " 'marital': 'married',\n",
       " 'month': 'oct',\n",
       " 'poutcome': 'unknown',\n",
       " 'y': 'no'}"
      ]
     },
     "execution_count": 17,
     "metadata": {},
     "output_type": "execute_result"
    }
   ],
   "source": [
    "#bdp_catcols = bdp.job, bdp.marital, bdp.education, bdp.default, bdp.housing, bdp.loan, bdp.contact, bdp.month, bdp.poutcome, bdp.y\n",
    "cat_cols = ['job', 'marital', 'education', 'default', 'housing', 'loan', 'contact', 'month', 'poutcome', 'y']\n",
    "cat_dict = bdp[cat_cols].to_dict(outtype='records')\n",
    "cat_dict[0]"
   ]
  },
  {
   "cell_type": "code",
   "execution_count": 29,
   "metadata": {
    "collapsed": false
   },
   "outputs": [
    {
     "data": {
      "text/plain": [
       "array([[ 1.,  0.,  0.,  1.,  0.,  1.,  0.,  0.,  0.,  1.,  0.,  0.,  0.,\n",
       "         0.,  0.,  0.,  0.,  0.,  0.,  0.,  0.,  1.,  0.,  1.,  0.,  0.,\n",
       "         1.,  0.,  0.,  0.,  0.,  0.,  0.,  0.,  0.,  0.,  0.,  0.,  1.,\n",
       "         0.,  0.,  0.,  0.,  1.,  1.,  0.],\n",
       "       [ 1.,  0.,  0.,  1.,  0.,  0.,  1.,  0.,  0.,  0.,  1.,  0.,  0.,\n",
       "         0.,  0.,  0.,  0.,  0.,  1.,  0.,  0.,  0.,  0.,  0.,  1.,  0.,\n",
       "         1.,  0.,  0.,  0.,  0.,  0.,  0.,  0.,  0.,  0.,  1.,  0.,  0.,\n",
       "         0.,  1.,  0.,  0.,  0.,  1.,  0.],\n",
       "       [ 1.,  0.,  0.,  1.,  0.,  0.,  0.,  1.,  0.,  0.,  1.,  0.,  0.,\n",
       "         0.,  0.,  1.,  0.,  0.,  0.,  0.,  0.,  0.,  0.,  1.,  0.,  0.,\n",
       "         0.,  1.,  1.,  0.,  0.,  0.,  0.,  0.,  0.,  0.,  0.,  0.,  0.,\n",
       "         0.,  1.,  0.,  0.,  0.,  1.,  0.],\n",
       "       [ 0.,  0.,  1.,  1.,  0.,  0.,  0.,  1.,  0.,  0.,  1.,  0.,  0.,\n",
       "         0.,  0.,  1.,  0.,  0.,  0.,  0.,  0.,  0.,  0.,  0.,  1.,  0.,\n",
       "         1.,  0.,  0.,  0.,  0.,  0.,  0.,  0.,  1.,  0.,  0.,  0.,  0.,\n",
       "         0.,  0.,  0.,  0.,  1.,  1.,  0.],\n",
       "       [ 0.,  0.,  1.,  1.,  0.,  0.,  1.,  0.,  0.,  0.,  1.,  0.,  1.,\n",
       "         0.,  0.,  0.,  0.,  0.,  0.,  0.,  0.,  0.,  0.,  1.,  0.,  0.,\n",
       "         1.,  0.,  0.,  0.,  0.,  0.,  0.,  0.,  0.,  0.,  1.,  0.,  0.,\n",
       "         0.,  0.,  0.,  0.,  1.,  1.,  0.]])"
      ]
     },
     "execution_count": 29,
     "metadata": {},
     "output_type": "execute_result"
    }
   ],
   "source": [
    "# DictVectorizer transforms dictionary to binary one-hot encoded array for each row\n",
    "\n",
    "vec = feature_extraction.DictVectorizer() #<-why didn't this work when I included 'sklearn'? said 'sklearn' not defined\n",
    "cat_vector = vec.fit_transform(cat_dict).toarray()\n",
    "cat_vector[:5]"
   ]
  },
  {
   "cell_type": "code",
   "execution_count": 31,
   "metadata": {
    "collapsed": false
   },
   "outputs": [
    {
     "data": {
      "text/plain": [
       "['contact=cellular',\n",
       " 'contact=telephone',\n",
       " 'contact=unknown',\n",
       " 'default=no',\n",
       " 'default=yes',\n",
       " 'education=primary',\n",
       " 'education=secondary',\n",
       " 'education=tertiary',\n",
       " 'education=unknown',\n",
       " 'housing=no',\n",
       " 'housing=yes',\n",
       " 'job=admin.',\n",
       " 'job=blue-collar',\n",
       " 'job=entrepreneur',\n",
       " 'job=housemaid',\n",
       " 'job=management',\n",
       " 'job=retired',\n",
       " 'job=self-employed',\n",
       " 'job=services',\n",
       " 'job=student',\n",
       " 'job=technician',\n",
       " 'job=unemployed',\n",
       " 'job=unknown',\n",
       " 'loan=no',\n",
       " 'loan=yes',\n",
       " 'marital=divorced',\n",
       " 'marital=married',\n",
       " 'marital=single',\n",
       " 'month=apr',\n",
       " 'month=aug',\n",
       " 'month=dec',\n",
       " 'month=feb',\n",
       " 'month=jan',\n",
       " 'month=jul',\n",
       " 'month=jun',\n",
       " 'month=mar',\n",
       " 'month=may',\n",
       " 'month=nov',\n",
       " 'month=oct',\n",
       " 'month=sep',\n",
       " 'poutcome=failure',\n",
       " 'poutcome=other',\n",
       " 'poutcome=success',\n",
       " 'poutcome=unknown',\n",
       " 'y=no',\n",
       " 'y=yes']"
      ]
     },
     "execution_count": 31,
     "metadata": {},
     "output_type": "execute_result"
    }
   ],
   "source": [
    "# Separate dataframe with one-hot encoded data, set column names by calling get_feature_names\n",
    "\n",
    "bdp_vector = pd.DataFrame(cat_vector)\n",
    "vector_cols = vec.get_feature_names()\n",
    "vector_cols"
   ]
  },
  {
   "cell_type": "code",
   "execution_count": 34,
   "metadata": {
    "collapsed": false
   },
   "outputs": [
    {
     "data": {
      "text/html": [
       "<div style=\"max-height:1000px;max-width:1500px;overflow:auto;\">\n",
       "<table border=\"1\" class=\"dataframe\">\n",
       "  <thead>\n",
       "    <tr style=\"text-align: right;\">\n",
       "      <th></th>\n",
       "      <th>age</th>\n",
       "      <th>balance</th>\n",
       "      <th>day</th>\n",
       "      <th>duration</th>\n",
       "      <th>campaign</th>\n",
       "      <th>pdays</th>\n",
       "      <th>previous</th>\n",
       "      <th>contact=cellular</th>\n",
       "      <th>contact=telephone</th>\n",
       "      <th>contact=unknown</th>\n",
       "      <th>...</th>\n",
       "      <th>month=may</th>\n",
       "      <th>month=nov</th>\n",
       "      <th>month=oct</th>\n",
       "      <th>month=sep</th>\n",
       "      <th>poutcome=failure</th>\n",
       "      <th>poutcome=other</th>\n",
       "      <th>poutcome=success</th>\n",
       "      <th>poutcome=unknown</th>\n",
       "      <th>y=no</th>\n",
       "      <th>y=yes</th>\n",
       "    </tr>\n",
       "  </thead>\n",
       "  <tbody>\n",
       "    <tr>\n",
       "      <th>0</th>\n",
       "      <td> 30</td>\n",
       "      <td> 1787</td>\n",
       "      <td> 19</td>\n",
       "      <td>  79</td>\n",
       "      <td> 1</td>\n",
       "      <td>  -1</td>\n",
       "      <td> 0</td>\n",
       "      <td> 1</td>\n",
       "      <td> 0</td>\n",
       "      <td> 0</td>\n",
       "      <td>...</td>\n",
       "      <td> 0</td>\n",
       "      <td> 0</td>\n",
       "      <td> 1</td>\n",
       "      <td> 0</td>\n",
       "      <td> 0</td>\n",
       "      <td> 0</td>\n",
       "      <td> 0</td>\n",
       "      <td> 1</td>\n",
       "      <td> 1</td>\n",
       "      <td> 0</td>\n",
       "    </tr>\n",
       "    <tr>\n",
       "      <th>1</th>\n",
       "      <td> 33</td>\n",
       "      <td> 4789</td>\n",
       "      <td> 11</td>\n",
       "      <td> 220</td>\n",
       "      <td> 1</td>\n",
       "      <td> 339</td>\n",
       "      <td> 4</td>\n",
       "      <td> 1</td>\n",
       "      <td> 0</td>\n",
       "      <td> 0</td>\n",
       "      <td>...</td>\n",
       "      <td> 1</td>\n",
       "      <td> 0</td>\n",
       "      <td> 0</td>\n",
       "      <td> 0</td>\n",
       "      <td> 1</td>\n",
       "      <td> 0</td>\n",
       "      <td> 0</td>\n",
       "      <td> 0</td>\n",
       "      <td> 1</td>\n",
       "      <td> 0</td>\n",
       "    </tr>\n",
       "    <tr>\n",
       "      <th>2</th>\n",
       "      <td> 35</td>\n",
       "      <td> 1350</td>\n",
       "      <td> 16</td>\n",
       "      <td> 185</td>\n",
       "      <td> 1</td>\n",
       "      <td> 330</td>\n",
       "      <td> 1</td>\n",
       "      <td> 1</td>\n",
       "      <td> 0</td>\n",
       "      <td> 0</td>\n",
       "      <td>...</td>\n",
       "      <td> 0</td>\n",
       "      <td> 0</td>\n",
       "      <td> 0</td>\n",
       "      <td> 0</td>\n",
       "      <td> 1</td>\n",
       "      <td> 0</td>\n",
       "      <td> 0</td>\n",
       "      <td> 0</td>\n",
       "      <td> 1</td>\n",
       "      <td> 0</td>\n",
       "    </tr>\n",
       "    <tr>\n",
       "      <th>3</th>\n",
       "      <td> 30</td>\n",
       "      <td> 1476</td>\n",
       "      <td>  3</td>\n",
       "      <td> 199</td>\n",
       "      <td> 4</td>\n",
       "      <td>  -1</td>\n",
       "      <td> 0</td>\n",
       "      <td> 0</td>\n",
       "      <td> 0</td>\n",
       "      <td> 1</td>\n",
       "      <td>...</td>\n",
       "      <td> 0</td>\n",
       "      <td> 0</td>\n",
       "      <td> 0</td>\n",
       "      <td> 0</td>\n",
       "      <td> 0</td>\n",
       "      <td> 0</td>\n",
       "      <td> 0</td>\n",
       "      <td> 1</td>\n",
       "      <td> 1</td>\n",
       "      <td> 0</td>\n",
       "    </tr>\n",
       "    <tr>\n",
       "      <th>4</th>\n",
       "      <td> 59</td>\n",
       "      <td>    0</td>\n",
       "      <td>  5</td>\n",
       "      <td> 226</td>\n",
       "      <td> 1</td>\n",
       "      <td>  -1</td>\n",
       "      <td> 0</td>\n",
       "      <td> 0</td>\n",
       "      <td> 0</td>\n",
       "      <td> 1</td>\n",
       "      <td>...</td>\n",
       "      <td> 1</td>\n",
       "      <td> 0</td>\n",
       "      <td> 0</td>\n",
       "      <td> 0</td>\n",
       "      <td> 0</td>\n",
       "      <td> 0</td>\n",
       "      <td> 0</td>\n",
       "      <td> 1</td>\n",
       "      <td> 1</td>\n",
       "      <td> 0</td>\n",
       "    </tr>\n",
       "  </tbody>\n",
       "</table>\n",
       "<p>5 rows × 53 columns</p>\n",
       "</div>"
      ],
      "text/plain": [
       "   age  balance  day  duration  campaign  pdays  previous  contact=cellular  \\\n",
       "0   30     1787   19        79         1     -1         0                 1   \n",
       "1   33     4789   11       220         1    339         4                 1   \n",
       "2   35     1350   16       185         1    330         1                 1   \n",
       "3   30     1476    3       199         4     -1         0                 0   \n",
       "4   59        0    5       226         1     -1         0                 0   \n",
       "\n",
       "   contact=telephone  contact=unknown  ...    month=may  month=nov  month=oct  \\\n",
       "0                  0                0  ...            0          0          1   \n",
       "1                  0                0  ...            1          0          0   \n",
       "2                  0                0  ...            0          0          0   \n",
       "3                  0                1  ...            0          0          0   \n",
       "4                  0                1  ...            1          0          0   \n",
       "\n",
       "   month=sep  poutcome=failure  poutcome=other  poutcome=success  \\\n",
       "0          0                 0               0                 0   \n",
       "1          0                 1               0                 0   \n",
       "2          0                 1               0                 0   \n",
       "3          0                 0               0                 0   \n",
       "4          0                 0               0                 0   \n",
       "\n",
       "   poutcome=unknown  y=no  y=yes  \n",
       "0                 1     1      0  \n",
       "1                 0     1      0  \n",
       "2                 0     1      0  \n",
       "3                 1     1      0  \n",
       "4                 1     1      0  \n",
       "\n",
       "[5 rows x 53 columns]"
      ]
     },
     "execution_count": 34,
     "metadata": {},
     "output_type": "execute_result"
    }
   ],
   "source": [
    "# Drop categorical columns % join new one-hot dataframe w/ original dataframe\n",
    "\n",
    "bdp_vector.columns = vector_cols\n",
    "bdp_vector.index = bdp.index\n",
    "\n",
    "bdp = bdp.drop(cat_cols, axis=1)\n",
    "bdp = bdp.join(bdp_vector)\n",
    "bdp.head()"
   ]
  },
  {
   "cell_type": "code",
   "execution_count": 35,
   "metadata": {
    "collapsed": false
   },
   "outputs": [
    {
     "data": {
      "text/html": [
       "<div style=\"max-height:1000px;max-width:1500px;overflow:auto;\">\n",
       "<table border=\"1\" class=\"dataframe\">\n",
       "  <thead>\n",
       "    <tr style=\"text-align: right;\">\n",
       "      <th></th>\n",
       "      <th>age</th>\n",
       "      <th>balance</th>\n",
       "      <th>day</th>\n",
       "      <th>duration</th>\n",
       "      <th>campaign</th>\n",
       "      <th>pdays</th>\n",
       "      <th>previous</th>\n",
       "      <th>contact=cellular</th>\n",
       "      <th>contact=telephone</th>\n",
       "      <th>contact=unknown</th>\n",
       "      <th>...</th>\n",
       "      <th>month=may</th>\n",
       "      <th>month=nov</th>\n",
       "      <th>month=oct</th>\n",
       "      <th>month=sep</th>\n",
       "      <th>poutcome=failure</th>\n",
       "      <th>poutcome=other</th>\n",
       "      <th>poutcome=success</th>\n",
       "      <th>poutcome=unknown</th>\n",
       "      <th>y=no</th>\n",
       "      <th>y=yes</th>\n",
       "    </tr>\n",
       "  </thead>\n",
       "  <tbody>\n",
       "    <tr>\n",
       "      <th>count</th>\n",
       "      <td> 4521.000000</td>\n",
       "      <td>  4521.000000</td>\n",
       "      <td> 4521.000000</td>\n",
       "      <td> 4521.000000</td>\n",
       "      <td> 4521.000000</td>\n",
       "      <td> 4521.000000</td>\n",
       "      <td> 4521.000000</td>\n",
       "      <td> 4521.000000</td>\n",
       "      <td> 4521.000000</td>\n",
       "      <td> 4521.000000</td>\n",
       "      <td>...</td>\n",
       "      <td> 4521.000000</td>\n",
       "      <td> 4521.000000</td>\n",
       "      <td> 4521.000000</td>\n",
       "      <td> 4521.000000</td>\n",
       "      <td> 4521.000000</td>\n",
       "      <td> 4521.000000</td>\n",
       "      <td> 4521.000000</td>\n",
       "      <td> 4521.000000</td>\n",
       "      <td> 4521.000000</td>\n",
       "      <td> 4521.000000</td>\n",
       "    </tr>\n",
       "    <tr>\n",
       "      <th>mean</th>\n",
       "      <td>   41.170095</td>\n",
       "      <td>  1422.657819</td>\n",
       "      <td>   15.915284</td>\n",
       "      <td>  263.961292</td>\n",
       "      <td>    2.793630</td>\n",
       "      <td>   39.766645</td>\n",
       "      <td>    0.542579</td>\n",
       "      <td>    0.640566</td>\n",
       "      <td>    0.066578</td>\n",
       "      <td>    0.292856</td>\n",
       "      <td>...</td>\n",
       "      <td>    0.309224</td>\n",
       "      <td>    0.086043</td>\n",
       "      <td>    0.017695</td>\n",
       "      <td>    0.011502</td>\n",
       "      <td>    0.108383</td>\n",
       "      <td>    0.043574</td>\n",
       "      <td>    0.028534</td>\n",
       "      <td>    0.819509</td>\n",
       "      <td>    0.884760</td>\n",
       "      <td>    0.115240</td>\n",
       "    </tr>\n",
       "    <tr>\n",
       "      <th>std</th>\n",
       "      <td>   10.576211</td>\n",
       "      <td>  3009.638142</td>\n",
       "      <td>    8.247667</td>\n",
       "      <td>  259.856633</td>\n",
       "      <td>    3.109807</td>\n",
       "      <td>  100.121124</td>\n",
       "      <td>    1.693562</td>\n",
       "      <td>    0.479888</td>\n",
       "      <td>    0.249318</td>\n",
       "      <td>    0.455123</td>\n",
       "      <td>...</td>\n",
       "      <td>    0.462225</td>\n",
       "      <td>    0.280458</td>\n",
       "      <td>    0.131856</td>\n",
       "      <td>    0.106640</td>\n",
       "      <td>    0.310898</td>\n",
       "      <td>    0.204169</td>\n",
       "      <td>    0.166510</td>\n",
       "      <td>    0.384638</td>\n",
       "      <td>    0.319347</td>\n",
       "      <td>    0.319347</td>\n",
       "    </tr>\n",
       "    <tr>\n",
       "      <th>min</th>\n",
       "      <td>   19.000000</td>\n",
       "      <td> -3313.000000</td>\n",
       "      <td>    1.000000</td>\n",
       "      <td>    4.000000</td>\n",
       "      <td>    1.000000</td>\n",
       "      <td>   -1.000000</td>\n",
       "      <td>    0.000000</td>\n",
       "      <td>    0.000000</td>\n",
       "      <td>    0.000000</td>\n",
       "      <td>    0.000000</td>\n",
       "      <td>...</td>\n",
       "      <td>    0.000000</td>\n",
       "      <td>    0.000000</td>\n",
       "      <td>    0.000000</td>\n",
       "      <td>    0.000000</td>\n",
       "      <td>    0.000000</td>\n",
       "      <td>    0.000000</td>\n",
       "      <td>    0.000000</td>\n",
       "      <td>    0.000000</td>\n",
       "      <td>    0.000000</td>\n",
       "      <td>    0.000000</td>\n",
       "    </tr>\n",
       "    <tr>\n",
       "      <th>25%</th>\n",
       "      <td>   33.000000</td>\n",
       "      <td>    69.000000</td>\n",
       "      <td>    9.000000</td>\n",
       "      <td>  104.000000</td>\n",
       "      <td>    1.000000</td>\n",
       "      <td>   -1.000000</td>\n",
       "      <td>    0.000000</td>\n",
       "      <td>    0.000000</td>\n",
       "      <td>    0.000000</td>\n",
       "      <td>    0.000000</td>\n",
       "      <td>...</td>\n",
       "      <td>    0.000000</td>\n",
       "      <td>    0.000000</td>\n",
       "      <td>    0.000000</td>\n",
       "      <td>    0.000000</td>\n",
       "      <td>    0.000000</td>\n",
       "      <td>    0.000000</td>\n",
       "      <td>    0.000000</td>\n",
       "      <td>    1.000000</td>\n",
       "      <td>    1.000000</td>\n",
       "      <td>    0.000000</td>\n",
       "    </tr>\n",
       "    <tr>\n",
       "      <th>50%</th>\n",
       "      <td>   39.000000</td>\n",
       "      <td>   444.000000</td>\n",
       "      <td>   16.000000</td>\n",
       "      <td>  185.000000</td>\n",
       "      <td>    2.000000</td>\n",
       "      <td>   -1.000000</td>\n",
       "      <td>    0.000000</td>\n",
       "      <td>    1.000000</td>\n",
       "      <td>    0.000000</td>\n",
       "      <td>    0.000000</td>\n",
       "      <td>...</td>\n",
       "      <td>    0.000000</td>\n",
       "      <td>    0.000000</td>\n",
       "      <td>    0.000000</td>\n",
       "      <td>    0.000000</td>\n",
       "      <td>    0.000000</td>\n",
       "      <td>    0.000000</td>\n",
       "      <td>    0.000000</td>\n",
       "      <td>    1.000000</td>\n",
       "      <td>    1.000000</td>\n",
       "      <td>    0.000000</td>\n",
       "    </tr>\n",
       "    <tr>\n",
       "      <th>75%</th>\n",
       "      <td>   49.000000</td>\n",
       "      <td>  1480.000000</td>\n",
       "      <td>   21.000000</td>\n",
       "      <td>  329.000000</td>\n",
       "      <td>    3.000000</td>\n",
       "      <td>   -1.000000</td>\n",
       "      <td>    0.000000</td>\n",
       "      <td>    1.000000</td>\n",
       "      <td>    0.000000</td>\n",
       "      <td>    1.000000</td>\n",
       "      <td>...</td>\n",
       "      <td>    1.000000</td>\n",
       "      <td>    0.000000</td>\n",
       "      <td>    0.000000</td>\n",
       "      <td>    0.000000</td>\n",
       "      <td>    0.000000</td>\n",
       "      <td>    0.000000</td>\n",
       "      <td>    0.000000</td>\n",
       "      <td>    1.000000</td>\n",
       "      <td>    1.000000</td>\n",
       "      <td>    0.000000</td>\n",
       "    </tr>\n",
       "    <tr>\n",
       "      <th>max</th>\n",
       "      <td>   87.000000</td>\n",
       "      <td> 71188.000000</td>\n",
       "      <td>   31.000000</td>\n",
       "      <td> 3025.000000</td>\n",
       "      <td>   50.000000</td>\n",
       "      <td>  871.000000</td>\n",
       "      <td>   25.000000</td>\n",
       "      <td>    1.000000</td>\n",
       "      <td>    1.000000</td>\n",
       "      <td>    1.000000</td>\n",
       "      <td>...</td>\n",
       "      <td>    1.000000</td>\n",
       "      <td>    1.000000</td>\n",
       "      <td>    1.000000</td>\n",
       "      <td>    1.000000</td>\n",
       "      <td>    1.000000</td>\n",
       "      <td>    1.000000</td>\n",
       "      <td>    1.000000</td>\n",
       "      <td>    1.000000</td>\n",
       "      <td>    1.000000</td>\n",
       "      <td>    1.000000</td>\n",
       "    </tr>\n",
       "  </tbody>\n",
       "</table>\n",
       "<p>8 rows × 53 columns</p>\n",
       "</div>"
      ],
      "text/plain": [
       "               age       balance          day     duration     campaign  \\\n",
       "count  4521.000000   4521.000000  4521.000000  4521.000000  4521.000000   \n",
       "mean     41.170095   1422.657819    15.915284   263.961292     2.793630   \n",
       "std      10.576211   3009.638142     8.247667   259.856633     3.109807   \n",
       "min      19.000000  -3313.000000     1.000000     4.000000     1.000000   \n",
       "25%      33.000000     69.000000     9.000000   104.000000     1.000000   \n",
       "50%      39.000000    444.000000    16.000000   185.000000     2.000000   \n",
       "75%      49.000000   1480.000000    21.000000   329.000000     3.000000   \n",
       "max      87.000000  71188.000000    31.000000  3025.000000    50.000000   \n",
       "\n",
       "             pdays     previous  contact=cellular  contact=telephone  \\\n",
       "count  4521.000000  4521.000000       4521.000000        4521.000000   \n",
       "mean     39.766645     0.542579          0.640566           0.066578   \n",
       "std     100.121124     1.693562          0.479888           0.249318   \n",
       "min      -1.000000     0.000000          0.000000           0.000000   \n",
       "25%      -1.000000     0.000000          0.000000           0.000000   \n",
       "50%      -1.000000     0.000000          1.000000           0.000000   \n",
       "75%      -1.000000     0.000000          1.000000           0.000000   \n",
       "max     871.000000    25.000000          1.000000           1.000000   \n",
       "\n",
       "       contact=unknown     ...         month=may    month=nov    month=oct  \\\n",
       "count      4521.000000     ...       4521.000000  4521.000000  4521.000000   \n",
       "mean          0.292856     ...          0.309224     0.086043     0.017695   \n",
       "std           0.455123     ...          0.462225     0.280458     0.131856   \n",
       "min           0.000000     ...          0.000000     0.000000     0.000000   \n",
       "25%           0.000000     ...          0.000000     0.000000     0.000000   \n",
       "50%           0.000000     ...          0.000000     0.000000     0.000000   \n",
       "75%           1.000000     ...          1.000000     0.000000     0.000000   \n",
       "max           1.000000     ...          1.000000     1.000000     1.000000   \n",
       "\n",
       "         month=sep  poutcome=failure  poutcome=other  poutcome=success  \\\n",
       "count  4521.000000       4521.000000     4521.000000       4521.000000   \n",
       "mean      0.011502          0.108383        0.043574          0.028534   \n",
       "std       0.106640          0.310898        0.204169          0.166510   \n",
       "min       0.000000          0.000000        0.000000          0.000000   \n",
       "25%       0.000000          0.000000        0.000000          0.000000   \n",
       "50%       0.000000          0.000000        0.000000          0.000000   \n",
       "75%       0.000000          0.000000        0.000000          0.000000   \n",
       "max       1.000000          1.000000        1.000000          1.000000   \n",
       "\n",
       "       poutcome=unknown         y=no        y=yes  \n",
       "count       4521.000000  4521.000000  4521.000000  \n",
       "mean           0.819509     0.884760     0.115240  \n",
       "std            0.384638     0.319347     0.319347  \n",
       "min            0.000000     0.000000     0.000000  \n",
       "25%            1.000000     1.000000     0.000000  \n",
       "50%            1.000000     1.000000     0.000000  \n",
       "75%            1.000000     1.000000     0.000000  \n",
       "max            1.000000     1.000000     1.000000  \n",
       "\n",
       "[8 rows x 53 columns]"
      ]
     },
     "execution_count": 35,
     "metadata": {},
     "output_type": "execute_result"
    }
   ],
   "source": [
    "bdp.describe()"
   ]
  },
  {
   "cell_type": "code",
   "execution_count": 1,
   "metadata": {
    "collapsed": false
   },
   "outputs": [],
   "source": [
    "#import statsmodels.api as sm\n",
    "\n",
    "#convtd_cats = sm.tools.categorical(bdp_cats, drop=True)\n",
    "#int_job = sm.tools.categorical(bdp.job, drop=True) # --> OK, this function is not useful for now"
   ]
  },
  {
   "cell_type": "code",
   "execution_count": 16,
   "metadata": {
    "collapsed": false
   },
   "outputs": [
    {
     "data": {
      "text/plain": [
       "array([[ 0.,  0.,  0., ...,  0.,  1.,  0.],\n",
       "       [ 0.,  1.,  0., ...,  0.,  0.,  0.],\n",
       "       [ 0.,  0.,  0., ...,  1.,  0.,  0.],\n",
       "       ..., \n",
       "       [ 0.,  0.,  0., ...,  0.,  0.,  0.],\n",
       "       [ 0.,  0.,  0., ...,  0.,  0.,  0.],\n",
       "       [ 0.,  0.,  1., ...,  0.,  0.,  0.]])"
      ]
     },
     "execution_count": 16,
     "metadata": {},
     "output_type": "execute_result"
    }
   ],
   "source": [
    "#v = DictVectorizer(sparse=False)\n",
    "#X = v.fit_transform(bdp_categs)\n",
    "#X"
   ]
  },
  {
   "cell_type": "code",
   "execution_count": 30,
   "metadata": {
    "collapsed": false
   },
   "outputs": [],
   "source": [
    "#v.inverse_transform(X) #doesn't seem right"
   ]
  },
  {
   "cell_type": "code",
   "execution_count": 37,
   "metadata": {
    "collapsed": false
   },
   "outputs": [
    {
     "data": {
      "text/plain": [
       "LabelEncoder()"
      ]
     },
     "execution_count": 37,
     "metadata": {},
     "output_type": "execute_result"
    }
   ],
   "source": [
    "#le = preprocessing.LabelEncoder()\n",
    "#le.fit(bdp.columns)"
   ]
  },
  {
   "cell_type": "code",
   "execution_count": 38,
   "metadata": {
    "collapsed": false
   },
   "outputs": [
    {
     "data": {
      "text/plain": [
       "array([ 0,  9, 11,  7,  5,  1,  8, 10,  3,  4, 12,  6,  2, 13, 15, 14, 16], dtype=int64)"
      ]
     },
     "execution_count": 38,
     "metadata": {},
     "output_type": "execute_result"
    }
   ],
   "source": [
    "#le.transform(bdp.columns.get_values())"
   ]
  },
  {
   "cell_type": "code",
   "execution_count": 39,
   "metadata": {
    "collapsed": false
   },
   "outputs": [
    {
     "data": {
      "text/plain": [
       "array(['age', 'balance', 'campaign', 'contact', 'day', 'default',\n",
       "       'duration', 'education', 'housing', 'job', 'loan', 'marital',\n",
       "       'month', 'pdays', 'poutcome', 'previous', 'y'], dtype=object)"
      ]
     },
     "execution_count": 39,
     "metadata": {},
     "output_type": "execute_result"
    }
   ],
   "source": [
    "#le.classes_"
   ]
  },
  {
   "cell_type": "code",
   "execution_count": null,
   "metadata": {
    "collapsed": true
   },
   "outputs": [],
   "source": []
  }
 ],
 "metadata": {
  "kernelspec": {
   "display_name": "Python 2",
   "language": "python",
   "name": "python2"
  },
  "language_info": {
   "codemirror_mode": {
    "name": "ipython",
    "version": 2
   },
   "file_extension": ".py",
   "mimetype": "text/x-python",
   "name": "python",
   "nbconvert_exporter": "python",
   "pygments_lexer": "ipython2",
   "version": "2.7.9"
  }
 },
 "nbformat": 4,
 "nbformat_minor": 0
}
