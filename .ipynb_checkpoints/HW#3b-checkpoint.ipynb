{
 "cells": [
  {
   "cell_type": "code",
   "execution_count": 2,
   "metadata": {
    "collapsed": true
   },
   "outputs": [],
   "source": [
    "import pandas as pd\n",
    "import numpy as np\n",
    "import sklearn"
   ]
  },
  {
   "cell_type": "code",
   "execution_count": 3,
   "metadata": {
    "collapsed": false
   },
   "outputs": [
    {
     "data": {
      "text/html": [
       "<div style=\"max-height:1000px;max-width:1500px;overflow:auto;\">\n",
       "<table border=\"1\" class=\"dataframe\">\n",
       "  <thead>\n",
       "    <tr style=\"text-align: right;\">\n",
       "      <th></th>\n",
       "      <th>age</th>\n",
       "      <th>job</th>\n",
       "      <th>marital</th>\n",
       "      <th>education</th>\n",
       "      <th>default</th>\n",
       "      <th>balance</th>\n",
       "      <th>housing</th>\n",
       "      <th>loan</th>\n",
       "      <th>contact</th>\n",
       "      <th>day</th>\n",
       "      <th>month</th>\n",
       "      <th>duration</th>\n",
       "      <th>campaign</th>\n",
       "      <th>pdays</th>\n",
       "      <th>previous</th>\n",
       "      <th>poutcome</th>\n",
       "      <th>y</th>\n",
       "    </tr>\n",
       "  </thead>\n",
       "  <tbody>\n",
       "    <tr>\n",
       "      <th>0</th>\n",
       "      <td> 30</td>\n",
       "      <td>  unemployed</td>\n",
       "      <td> married</td>\n",
       "      <td>   primary</td>\n",
       "      <td> no</td>\n",
       "      <td> 1787</td>\n",
       "      <td>  no</td>\n",
       "      <td>  no</td>\n",
       "      <td> cellular</td>\n",
       "      <td> 19</td>\n",
       "      <td> oct</td>\n",
       "      <td>  79</td>\n",
       "      <td> 1</td>\n",
       "      <td>  -1</td>\n",
       "      <td> 0</td>\n",
       "      <td> unknown</td>\n",
       "      <td> no</td>\n",
       "    </tr>\n",
       "    <tr>\n",
       "      <th>1</th>\n",
       "      <td> 33</td>\n",
       "      <td>    services</td>\n",
       "      <td> married</td>\n",
       "      <td> secondary</td>\n",
       "      <td> no</td>\n",
       "      <td> 4789</td>\n",
       "      <td> yes</td>\n",
       "      <td> yes</td>\n",
       "      <td> cellular</td>\n",
       "      <td> 11</td>\n",
       "      <td> may</td>\n",
       "      <td> 220</td>\n",
       "      <td> 1</td>\n",
       "      <td> 339</td>\n",
       "      <td> 4</td>\n",
       "      <td> failure</td>\n",
       "      <td> no</td>\n",
       "    </tr>\n",
       "    <tr>\n",
       "      <th>2</th>\n",
       "      <td> 35</td>\n",
       "      <td>  management</td>\n",
       "      <td>  single</td>\n",
       "      <td>  tertiary</td>\n",
       "      <td> no</td>\n",
       "      <td> 1350</td>\n",
       "      <td> yes</td>\n",
       "      <td>  no</td>\n",
       "      <td> cellular</td>\n",
       "      <td> 16</td>\n",
       "      <td> apr</td>\n",
       "      <td> 185</td>\n",
       "      <td> 1</td>\n",
       "      <td> 330</td>\n",
       "      <td> 1</td>\n",
       "      <td> failure</td>\n",
       "      <td> no</td>\n",
       "    </tr>\n",
       "    <tr>\n",
       "      <th>3</th>\n",
       "      <td> 30</td>\n",
       "      <td>  management</td>\n",
       "      <td> married</td>\n",
       "      <td>  tertiary</td>\n",
       "      <td> no</td>\n",
       "      <td> 1476</td>\n",
       "      <td> yes</td>\n",
       "      <td> yes</td>\n",
       "      <td>  unknown</td>\n",
       "      <td>  3</td>\n",
       "      <td> jun</td>\n",
       "      <td> 199</td>\n",
       "      <td> 4</td>\n",
       "      <td>  -1</td>\n",
       "      <td> 0</td>\n",
       "      <td> unknown</td>\n",
       "      <td> no</td>\n",
       "    </tr>\n",
       "    <tr>\n",
       "      <th>4</th>\n",
       "      <td> 59</td>\n",
       "      <td> blue-collar</td>\n",
       "      <td> married</td>\n",
       "      <td> secondary</td>\n",
       "      <td> no</td>\n",
       "      <td>    0</td>\n",
       "      <td> yes</td>\n",
       "      <td>  no</td>\n",
       "      <td>  unknown</td>\n",
       "      <td>  5</td>\n",
       "      <td> may</td>\n",
       "      <td> 226</td>\n",
       "      <td> 1</td>\n",
       "      <td>  -1</td>\n",
       "      <td> 0</td>\n",
       "      <td> unknown</td>\n",
       "      <td> no</td>\n",
       "    </tr>\n",
       "  </tbody>\n",
       "</table>\n",
       "</div>"
      ],
      "text/plain": [
       "   age          job  marital  education default  balance housing loan  \\\n",
       "0   30   unemployed  married    primary      no     1787      no   no   \n",
       "1   33     services  married  secondary      no     4789     yes  yes   \n",
       "2   35   management   single   tertiary      no     1350     yes   no   \n",
       "3   30   management  married   tertiary      no     1476     yes  yes   \n",
       "4   59  blue-collar  married  secondary      no        0     yes   no   \n",
       "\n",
       "    contact  day month  duration  campaign  pdays  previous poutcome   y  \n",
       "0  cellular   19   oct        79         1     -1         0  unknown  no  \n",
       "1  cellular   11   may       220         1    339         4  failure  no  \n",
       "2  cellular   16   apr       185         1    330         1  failure  no  \n",
       "3   unknown    3   jun       199         4     -1         0  unknown  no  \n",
       "4   unknown    5   may       226         1     -1         0  unknown  no  "
      ]
     },
     "execution_count": 3,
     "metadata": {},
     "output_type": "execute_result"
    }
   ],
   "source": [
    "# 'bdp' stands for \"bank-data-partial\" --> refers to partial bank data, i.e. first, smaller dataset.\n",
    "\n",
    "bdp = pd.read_csv('bank.csv', sep=';', index_col=False)\n",
    "bdp.head()"
   ]
  },
  {
   "cell_type": "code",
   "execution_count": 4,
   "metadata": {
    "collapsed": true
   },
   "outputs": [],
   "source": [
    "%matplotlib inline\n",
    "import matplotlib.pyplot as plt"
   ]
  },
  {
   "cell_type": "code",
   "execution_count": 5,
   "metadata": {
    "collapsed": false
   },
   "outputs": [
    {
     "data": {
      "image/png": "[encoded data removed]",
      "text/plain": [
       "<matplotlib.figure.Figure at 0xc9fc080>"
      ]
     },
     "metadata": {},
     "output_type": "display_data"
    }
   ],
   "source": [
    "# Plot histogram for 'pdays', whose response structure I don't quite get, despite reading documentation.\n",
    "\n",
    "plt.hist(bdp['pdays'])\n",
    "plt.title(\"'pdays' Histogram\")\n",
    "plt.xlabel(\"Value\")\n",
    "plt.ylabel(\"Frequency\")\n",
    "plt.show()\n",
    "\n",
    "# Why doesn't histogram show \"-1\" values for 'pdays'?"
   ]
  },
  {
   "cell_type": "code",
   "execution_count": 6,
   "metadata": {
    "collapsed": false
   },
   "outputs": [
    {
     "data": {
      "text/plain": [
       "unknown    3705\n",
       "failure     490\n",
       "other       197\n",
       "success     129\n",
       "dtype: int64"
      ]
     },
     "execution_count": 6,
     "metadata": {},
     "output_type": "execute_result"
    }
   ],
   "source": [
    "# Count up # of values for 'poutcome' by response type.\n",
    "\n",
    "bdp.poutcome.value_counts()\n",
    "\n",
    "# Why the huge number of 'unknown' values? on the other hand, the key value tells us what we ...\n",
    "#... need to know anyways."
   ]
  },
  {
   "cell_type": "code",
   "execution_count": 7,
   "metadata": {
    "collapsed": true
   },
   "outputs": [],
   "source": [
    "from sklearn import preprocessing, feature_extraction\n",
    "\n",
    "#from sklearn.preprocessing import OneHotEncoder, LabelEncoder\n",
    "#from sklearn.feature_extraction import DictVectorizer"
   ]
  },
  {
   "cell_type": "code",
   "execution_count": 8,
   "metadata": {
    "collapsed": true
   },
   "outputs": [],
   "source": [
    "#[In]: bdp.keys():\n",
    "#[Out]: ['age', 'job', 'marital', 'education', 'default', 'balance', 'housing', 'loan', 'contact', \n",
    "#        'day', 'month', 'duration', 'campaign', 'pdays', 'previous', 'poutcome', 'y']"
   ]
  },
  {
   "cell_type": "code",
   "execution_count": 9,
   "metadata": {
    "collapsed": true
   },
   "outputs": [],
   "source": [
    "# 'bdp_categs' is a list of categorical variables for dataframe 'bdp'\n",
    "\n",
    "bdp_categs = ['job', 'marital', 'education', 'default', 'housing', 'loan', 'contact', 'month', 'poutcome', 'y']"
   ]
  },
  {
   "cell_type": "code",
   "execution_count": 10,
   "metadata": {
    "collapsed": true
   },
   "outputs": [],
   "source": [
    "# 'categs_dict' is a dictionary of categorical variables, as made by loading 'bdp_categs'\n",
    "\n",
    "#categs_dict = bdp[bdp_categs].to_dict(outtype='records')    <-- (PREVIOUSLY EXECUTED)"
   ]
  },
  {
   "cell_type": "code",
   "execution_count": 11,
   "metadata": {
    "collapsed": false
   },
   "outputs": [],
   "source": [
    "# Call LabelEncoder() & OneHotEncoder().\n",
    "\n",
    "from sklearn.preprocessing import OneHotEncoder, LabelEncoder\n",
    "\n",
    "# Define LabelEncoder() as 'le'\n",
    "\n",
    "le = LabelEncoder()\n",
    "\n",
    "# Fit 'bdp_categs' (categorical variables) for bdp (dataframe of dataset) and then transform.\n",
    "\n",
    "#bdp[bdp_categs] = le.fit_transform(bdp[bdp_categs])    <-- (PREVIOUSLY EXECUTED)\n",
    "\n",
    "# Output result of attempted procedure immediately above.\n",
    "\n",
    "#bdp    <-- (PREVIOUSLY EXECUTED)\n",
    "\n",
    "# Nope, doesn't work too well - 'bad input shape' is pretty clear message."
   ]
  },
  {
   "cell_type": "code",
   "execution_count": 18,
   "metadata": {
    "collapsed": false
   },
   "outputs": [
    {
     "data": {
      "text/html": [
       "<div style=\"max-height:1000px;max-width:1500px;overflow:auto;\">\n",
       "<table border=\"1\" class=\"dataframe\">\n",
       "  <thead>\n",
       "    <tr style=\"text-align: right;\">\n",
       "      <th></th>\n",
       "      <th>age</th>\n",
       "      <th>job</th>\n",
       "      <th>marital</th>\n",
       "      <th>education</th>\n",
       "      <th>default</th>\n",
       "      <th>balance</th>\n",
       "      <th>housing</th>\n",
       "      <th>loan</th>\n",
       "      <th>contact</th>\n",
       "      <th>day</th>\n",
       "      <th>month</th>\n",
       "      <th>duration</th>\n",
       "      <th>campaign</th>\n",
       "      <th>pdays</th>\n",
       "      <th>previous</th>\n",
       "      <th>poutcome</th>\n",
       "      <th>y</th>\n",
       "    </tr>\n",
       "  </thead>\n",
       "  <tbody>\n",
       "    <tr>\n",
       "      <th>0</th>\n",
       "      <td> 11</td>\n",
       "      <td> 10</td>\n",
       "      <td> 1</td>\n",
       "      <td> 0</td>\n",
       "      <td> 0</td>\n",
       "      <td> 1475</td>\n",
       "      <td> 0</td>\n",
       "      <td> 0</td>\n",
       "      <td> 0</td>\n",
       "      <td> 18</td>\n",
       "      <td> 10</td>\n",
       "      <td>  75</td>\n",
       "      <td> 0</td>\n",
       "      <td>   0</td>\n",
       "      <td> 0</td>\n",
       "      <td> 3</td>\n",
       "      <td> 0</td>\n",
       "    </tr>\n",
       "    <tr>\n",
       "      <th>1</th>\n",
       "      <td> 14</td>\n",
       "      <td>  7</td>\n",
       "      <td> 1</td>\n",
       "      <td> 1</td>\n",
       "      <td> 0</td>\n",
       "      <td> 2030</td>\n",
       "      <td> 1</td>\n",
       "      <td> 1</td>\n",
       "      <td> 0</td>\n",
       "      <td> 10</td>\n",
       "      <td>  8</td>\n",
       "      <td> 216</td>\n",
       "      <td> 0</td>\n",
       "      <td> 228</td>\n",
       "      <td> 4</td>\n",
       "      <td> 0</td>\n",
       "      <td> 0</td>\n",
       "    </tr>\n",
       "    <tr>\n",
       "      <th>2</th>\n",
       "      <td> 16</td>\n",
       "      <td>  4</td>\n",
       "      <td> 2</td>\n",
       "      <td> 2</td>\n",
       "      <td> 0</td>\n",
       "      <td> 1303</td>\n",
       "      <td> 1</td>\n",
       "      <td> 0</td>\n",
       "      <td> 0</td>\n",
       "      <td> 15</td>\n",
       "      <td>  0</td>\n",
       "      <td> 181</td>\n",
       "      <td> 0</td>\n",
       "      <td> 219</td>\n",
       "      <td> 1</td>\n",
       "      <td> 0</td>\n",
       "      <td> 0</td>\n",
       "    </tr>\n",
       "    <tr>\n",
       "      <th>3</th>\n",
       "      <td> 11</td>\n",
       "      <td>  4</td>\n",
       "      <td> 1</td>\n",
       "      <td> 2</td>\n",
       "      <td> 0</td>\n",
       "      <td> 1352</td>\n",
       "      <td> 1</td>\n",
       "      <td> 1</td>\n",
       "      <td> 2</td>\n",
       "      <td>  2</td>\n",
       "      <td>  6</td>\n",
       "      <td> 195</td>\n",
       "      <td> 3</td>\n",
       "      <td>   0</td>\n",
       "      <td> 0</td>\n",
       "      <td> 3</td>\n",
       "      <td> 0</td>\n",
       "    </tr>\n",
       "    <tr>\n",
       "      <th>4</th>\n",
       "      <td> 40</td>\n",
       "      <td>  1</td>\n",
       "      <td> 1</td>\n",
       "      <td> 1</td>\n",
       "      <td> 0</td>\n",
       "      <td>  274</td>\n",
       "      <td> 1</td>\n",
       "      <td> 0</td>\n",
       "      <td> 2</td>\n",
       "      <td>  4</td>\n",
       "      <td>  8</td>\n",
       "      <td> 222</td>\n",
       "      <td> 0</td>\n",
       "      <td>   0</td>\n",
       "      <td> 0</td>\n",
       "      <td> 3</td>\n",
       "      <td> 0</td>\n",
       "    </tr>\n",
       "    <tr>\n",
       "      <th>5</th>\n",
       "      <td> 16</td>\n",
       "      <td>  4</td>\n",
       "      <td> 2</td>\n",
       "      <td> 2</td>\n",
       "      <td> 0</td>\n",
       "      <td>  934</td>\n",
       "      <td> 0</td>\n",
       "      <td> 0</td>\n",
       "      <td> 0</td>\n",
       "      <td> 22</td>\n",
       "      <td>  3</td>\n",
       "      <td> 137</td>\n",
       "      <td> 1</td>\n",
       "      <td> 109</td>\n",
       "      <td> 3</td>\n",
       "      <td> 0</td>\n",
       "      <td> 0</td>\n",
       "    </tr>\n",
       "    <tr>\n",
       "      <th>6</th>\n",
       "      <td> 17</td>\n",
       "      <td>  6</td>\n",
       "      <td> 1</td>\n",
       "      <td> 2</td>\n",
       "      <td> 0</td>\n",
       "      <td>  569</td>\n",
       "      <td> 1</td>\n",
       "      <td> 0</td>\n",
       "      <td> 0</td>\n",
       "      <td> 13</td>\n",
       "      <td>  8</td>\n",
       "      <td> 337</td>\n",
       "      <td> 0</td>\n",
       "      <td> 219</td>\n",
       "      <td> 2</td>\n",
       "      <td> 1</td>\n",
       "      <td> 0</td>\n",
       "    </tr>\n",
       "  </tbody>\n",
       "</table>\n",
       "</div>"
      ],
      "text/plain": [
       "   age  job  marital  education  default  balance  housing  loan  contact  \\\n",
       "0   11   10        1          0        0     1475        0     0        0   \n",
       "1   14    7        1          1        0     2030        1     1        0   \n",
       "2   16    4        2          2        0     1303        1     0        0   \n",
       "3   11    4        1          2        0     1352        1     1        2   \n",
       "4   40    1        1          1        0      274        1     0        2   \n",
       "5   16    4        2          2        0      934        0     0        0   \n",
       "6   17    6        1          2        0      569        1     0        0   \n",
       "\n",
       "   day  month  duration  campaign  pdays  previous  poutcome  y  \n",
       "0   18     10        75         0      0         0         3  0  \n",
       "1   10      8       216         0    228         4         0  0  \n",
       "2   15      0       181         0    219         1         0  0  \n",
       "3    2      6       195         3      0         0         3  0  \n",
       "4    4      8       222         0      0         0         3  0  \n",
       "5   22      3       137         1    109         3         0  0  \n",
       "6   13      8       337         0    219         2         1  0  "
      ]
     },
     "execution_count": 18,
     "metadata": {},
     "output_type": "execute_result"
    }
   ],
   "source": [
    "# 2nd/3rd Attempt (overall) to apply LabelEncoder.fit_transform() to all columns in dataframe 'bdp'.\n",
    "\n",
    "bdp.apply(le.fit_transform, axis=0).head(7)\n",
    "\n",
    "# Unfortunately, le.fit_transform() was applied to all columns (axis=0), so numerical/continuous ...\n",
    "# ..were transformed/encoded as well, which isn't good bc results aren't terribly useful."
   ]
  },
  {
   "cell_type": "code",
   "execution_count": 35,
   "metadata": {
    "collapsed": false
   },
   "outputs": [
    {
     "data": {
      "text/plain": [
       "array([10,  7,  4, ...,  9,  1,  2])"
      ]
     },
     "execution_count": 35,
     "metadata": {},
     "output_type": "execute_result"
    }
   ],
   "source": [
    "# Fit & transform 'job' column.\n",
    "# 'enc_job' is the encoded form of bdp[job].\n",
    "\n",
    "enc_job = le.fit_transform(bdp.job)\n",
    "enc_job"
   ]
  },
  {
   "cell_type": "code",
   "execution_count": 37,
   "metadata": {
    "collapsed": false
   },
   "outputs": [
    {
     "data": {
      "text/plain": [
       "array([ 0,  1,  2,  3,  4,  5,  6,  7,  8,  9, 10, 11])"
      ]
     },
     "execution_count": 37,
     "metadata": {},
     "output_type": "execute_result"
    }
   ],
   "source": [
    "# Look at unique values for 'enc_job' (which is encoded version of 'bdp[job]').\n",
    "\n",
    "np.unique(enc_job)\n",
    "\n",
    "# Looks ok so far."
   ]
  },
  {
   "cell_type": "code",
   "execution_count": 38,
   "metadata": {
    "collapsed": false
   },
   "outputs": [
    {
     "data": {
      "text/plain": [
       "['job',\n",
       " 'marital',\n",
       " 'education',\n",
       " 'default',\n",
       " 'housing',\n",
       " 'loan',\n",
       " 'contact',\n",
       " 'month',\n",
       " 'poutcome',\n",
       " 'y']"
      ]
     },
     "execution_count": 38,
     "metadata": {},
     "output_type": "execute_result"
    }
   ],
   "source": [
    "bdp_categs"
   ]
  },
  {
   "cell_type": "code",
   "execution_count": 41,
   "metadata": {
    "collapsed": true
   },
   "outputs": [],
   "source": [
    "# Apply template procedure from 'enc_job\" operation to other categorical variables.\n",
    "\n",
    "enc_marital = le.fit_transform(bdp.marital)\n",
    "enc_education = le.fit_transform(bdp.education)\n",
    "enc_default = le.fit_transform(bdp.default)\n",
    "enc_housing = le.fit_transform(bdp.housing)\n",
    "enc_loan = le.fit_transform(bdp.loan)\n",
    "enc_contact = le.fit_transform(bdp.contact)\n",
    "enc_month = le.fit_transform(bdp.month)\n",
    "enc_poutcome = le.fit_transform(bdp.poutcome)\n",
    "enc_y = le.fit_transform(bdp.y)"
   ]
  },
  {
   "cell_type": "code",
   "execution_count": 42,
   "metadata": {
    "collapsed": false
   },
   "outputs": [
    {
     "data": {
      "text/plain": [
       "array([1, 1, 2, ..., 1, 1, 2])"
      ]
     },
     "execution_count": 42,
     "metadata": {},
     "output_type": "execute_result"
    }
   ],
   "source": [
    "enc_marital"
   ]
  },
  {
   "cell_type": "code",
   "execution_count": 43,
   "metadata": {
    "collapsed": false
   },
   "outputs": [
    {
     "data": {
      "text/plain": [
       "array([0, 1, 2])"
      ]
     },
     "execution_count": 43,
     "metadata": {},
     "output_type": "execute_result"
    }
   ],
   "source": [
    "np.unique(enc_marital)"
   ]
  },
  {
   "cell_type": "code",
   "execution_count": 44,
   "metadata": {
    "collapsed": false
   },
   "outputs": [
    {
     "data": {
      "text/plain": [
       "array([0, 0, 0, ..., 0, 0, 0])"
      ]
     },
     "execution_count": 44,
     "metadata": {},
     "output_type": "execute_result"
    }
   ],
   "source": [
    "enc_y"
   ]
  },
  {
   "cell_type": "code",
   "execution_count": 45,
   "metadata": {
    "collapsed": false
   },
   "outputs": [
    {
     "data": {
      "text/plain": [
       "array([0, 1])"
      ]
     },
     "execution_count": 45,
     "metadata": {},
     "output_type": "execute_result"
    }
   ],
   "source": [
    "np.unique(enc_y)"
   ]
  },
  {
   "cell_type": "code",
   "execution_count": null,
   "metadata": {
    "collapsed": true
   },
   "outputs": [],
   "source": [
    "# Try creating a function to apply only to categorical variables ('bdp_categs') by using iterable (?)"
   ]
  }
 ],
 "metadata": {
  "kernelspec": {
   "display_name": "Python 2",
   "language": "python",
   "name": "python2"
  },
  "language_info": {
   "codemirror_mode": {
    "name": "ipython",
    "version": 2
   },
   "file_extension": ".py",
   "mimetype": "text/x-python",
   "name": "python",
   "nbconvert_exporter": "python",
   "pygments_lexer": "ipython2",
   "version": "2.7.9"
  }
 },
 "nbformat": 4,
 "nbformat_minor": 0
}
