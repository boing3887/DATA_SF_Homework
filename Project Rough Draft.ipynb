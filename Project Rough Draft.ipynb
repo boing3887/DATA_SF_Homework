{
 "cells": [
  {
   "cell_type": "markdown",
   "metadata": {},
   "source": [
    "##PROJECT OUTLINE\n",
    "\n",
    "The National Basketball Association increasingly features faster and faster-paced gameplay and higher-scoring, notably caused by teams' increasing reliance on the three-point shot. Teams have undertaken a variety of strategies in order to increase the number of three-point shots that they take as well as make. One thing teams have done is to replace a traditional Center or (more often) a Power Forward with a smaller player who is a better long-range shooter (called a \"stretch four\"), or to have players who play the traditional Power Forward/Center positions attempt more three-point shots. The intuition behind this strategy is not only that three-point shots are worth more, but that bigger players - who are often also guarded by other big (and thus slower) players - have more three-point shot opportunities that will not be defended properly since Power Forwards/Centers are not comfortable playing far from the rim. If defending Power Forwards/Centers *do* come out further to defend the three-point shot, that leaves more space closer to the basket for other players to score (usually by dribble-driving or posting up). Thus, \"floor spacing\" is improved. \n",
    "\n",
    "This project seeks to see whether the beneficial effect for an offense of Power Forwards/Centers/Stretch-Fours taking three-point shots is similar to that of players at other positions (meaning Point Guard/\"Ones\", Shooting Guards/\"Twos\" and Small Forward/\"Threes\") in the effect it has on floor spacing, or whether, due to the potential of drawing shot-blocking players away from the rim, their floor spacing effect is different (meaning larger)."
   ]
  },
  {
   "cell_type": "code",
   "execution_count": null,
   "metadata": {
    "collapsed": true
   },
   "outputs": [],
   "source": [
    "# Obtain NBA data on three-point shooting by Team and Player from 1997 to the present. The reason for...\n",
    "#.. using data from 1997 onwards is that that year is widely seen as an \"inflection point\" of sorts...\n",
    "#.. for three-point shooting in NBA play.\n",
    "\n",
    "# Data manually downloaded as CSV files from www.basketball-reference.com - the website's 'Conditions...\n",
    "#.. & Terms of Service' state that they do not allow automated website access and would ban violators'...\n",
    "#.. IP addresses, which makes scraping data risky."
   ]
  },
  {
   "cell_type": "markdown",
   "metadata": {},
   "source": [
    "First, look at effect of stretch-fours on Team's offensive efficiency (after subtracting contribution from the stretch four themselves), examining overall FG%, three-point FG%, and FG% near the rim (might possibly need shot chart data for this).\n",
    "\n",
    "If stretch-fours do seem to be associated with better offensive efficiency for their teammates, does this *also* mean that teammates shoot better when playing with stretch-fours? Examine how teammates' offensive effiency compares to other years."
   ]
  },
  {
   "cell_type": "code",
   "execution_count": null,
   "metadata": {
    "collapsed": true
   },
   "outputs": [],
   "source": []
  },
  {
   "cell_type": "code",
   "execution_count": null,
   "metadata": {
    "collapsed": true
   },
   "outputs": [],
   "source": []
  }
 ],
 "metadata": {
  "kernelspec": {
   "display_name": "Python 2",
   "language": "python",
   "name": "python2"
  },
  "language_info": {
   "codemirror_mode": {
    "name": "ipython",
    "version": 2
   },
   "file_extension": ".py",
   "mimetype": "text/x-python",
   "name": "python",
   "nbconvert_exporter": "python",
   "pygments_lexer": "ipython2",
   "version": "2.7.9"
  }
 },
 "nbformat": 4,
 "nbformat_minor": 0
}
